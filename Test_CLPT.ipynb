{
 "cells": [
  {
   "cell_type": "code",
   "execution_count": 1,
   "metadata": {
    "collapsed": false
   },
   "outputs": [],
   "source": [
    "from pylab import *\n",
    "%matplotlib inline"
   ]
  },
  {
   "cell_type": "code",
   "execution_count": 111,
   "metadata": {
    "collapsed": false
   },
   "outputs": [],
   "source": [
    "# r_0, xi_L_0, b10b20_0, b11b20_0, b10b21_0,  \\\n",
    "#        b12b20_0, b11b21_0, b10b22_0 \\\n",
    "# \t = loadtxt( '/Users/lilew/Downloads/CLPTModified/data/xi2.txt', unpack = True );\n",
    "# r_1, xi_L_1, b10b20_1, b11b20_1, b10b21_1,  \\\n",
    "#        b12b20_1, b11b21_1, b10b22_1 \\\n",
    "#        = loadtxt( 'data/xi.txt', unpack = True );\n",
    "\n",
    "r_1,  v_L_1, b10b20_1, b11b20_1, b10b21_1,  \\\n",
    "       b12b20_1, b11b21_1, b10b22_1 \\\n",
    "       = loadtxt( 'data/v12.txt', unpack = True );\n",
    "r_1,  v_L_1, b10b20_1, b11b20_1, b10b21_1,  \\\n",
    "       b12b20_1, b11b21_1, b10b22_1 \\\n",
    "       = loadtxt( 'data/v12.txt', unpack = True );\n"
   ]
  },
  {
   "cell_type": "code",
   "execution_count": 112,
   "metadata": {
    "collapsed": false
   },
   "outputs": [
    {
     "data": {
      "text/plain": [
       "<matplotlib.figure.Figure at 0x113cba150>"
      ]
     },
     "metadata": {},
     "output_type": "display_data"
    },
    {
     "data": {
      "text/plain": [
       "<matplotlib.figure.Figure at 0x11413ae10>"
      ]
     },
     "metadata": {},
     "output_type": "display_data"
    },
    {
     "data": {
      "text/plain": [
       "<matplotlib.figure.Figure at 0x113b06350>"
      ]
     },
     "metadata": {},
     "output_type": "display_data"
    },
    {
     "data": {
      "text/plain": [
       "<matplotlib.figure.Figure at 0x113b06b10>"
      ]
     },
     "metadata": {},
     "output_type": "display_data"
    }
   ],
   "source": [
    "def plot_compare( r, f0, f1 ):\n",
    "    figure( 0 );\n",
    "    plot( r, log10( abs( ( f0 - f1 ) / f0 ) ) );  \n",
    "    show(  );\n",
    "    close(  );\n",
    "#\n",
    "plot_compare( r_0, b0_0, b0_1 )\n",
    "plot_compare( r_0, b11_0, b11_1 )\n",
    "plot_compare( r_0, b21_0, b21_1 )\n",
    "plot_compare( r_0, b12_0, b12_1 )\n",
    "\n"
   ]
  },
  {
   "cell_type": "code",
   "execution_count": 106,
   "metadata": {
    "collapsed": false
   },
   "outputs": [
    {
     "data": {
      "text/plain": [
       "<matplotlib.figure.Figure at 0x113adf850>"
      ]
     },
     "metadata": {},
     "output_type": "display_data"
    }
   ],
   "source": [
    "plot( r_0, r_0**2 * xi_L_0 )\n",
    "plot( r_0, r_0**2 * b10b20_0 )\n",
    "plot( r_0, r_0**2 * b10b20_1 )\n",
    "xlim( 90, 140 )\n",
    "ylim( 0, 15 )\n",
    "xlabel( r'$r/(\\mathrm{Mpc\\ }h^{-1})$' )\n",
    "ylabel( r'$r^2 \\xi(r)/(\\mathrm{Mpc}^{2}\\ h^{-2})$' )\n",
    "savefig( 'xi_compare.png' ) "
   ]
  },
  {
   "cell_type": "code",
   "execution_count": 107,
   "metadata": {
    "collapsed": false
   },
   "outputs": [
    {
     "data": {
      "text/plain": [
       "u'/Users/lilew/Jobs/BigBOSS/RSD_CLPT/CLPT_GSRSD'"
      ]
     },
     "execution_count": 107,
     "metadata": {},
     "output_type": "execute_result"
    }
   ],
   "source": [
    "pwd"
   ]
  }
 ],
 "metadata": {},
 "nbformat": 4,
 "nbformat_minor": 0
}
